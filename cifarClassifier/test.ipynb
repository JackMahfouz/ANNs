{
 "cells": [
  {
   "cell_type": "code",
   "execution_count": 1,
   "id": "6e89df84-ced4-4083-a773-46c918a35b90",
   "metadata": {},
   "outputs": [
    {
     "name": "stderr",
     "output_type": "stream",
     "text": [
      "2022-08-03 05:41:04.330717: W tensorflow/stream_executor/platform/default/dso_loader.cc:64] Could not load dynamic library 'libcudart.so.11.0'; dlerror: libcudart.so.11.0: cannot open shared object file: No such file or directory\n",
      "2022-08-03 05:41:04.330751: I tensorflow/stream_executor/cuda/cudart_stub.cc:29] Ignore above cudart dlerror if you do not have a GPU set up on your machine.\n"
     ]
    }
   ],
   "source": [
    "import tensorflow as tf"
   ]
  },
  {
   "cell_type": "code",
   "execution_count": 2,
   "id": "bf835ed6-fa2a-4a92-b737-250007836b00",
   "metadata": {},
   "outputs": [
    {
     "ename": "NameError",
     "evalue": "name 'load_model' is not defined",
     "output_type": "error",
     "traceback": [
      "\u001b[0;31m---------------------------------------------------------------------------\u001b[0m",
      "\u001b[0;31mNameError\u001b[0m                                 Traceback (most recent call last)",
      "\u001b[0;32m/tmp/ipykernel_9935/541859592.py\u001b[0m in \u001b[0;36m<module>\u001b[0;34m\u001b[0m\n\u001b[0;32m----> 1\u001b[0;31m \u001b[0mmodel\u001b[0m \u001b[0;34m=\u001b[0m \u001b[0mload_model\u001b[0m\u001b[0;34m(\u001b[0m\u001b[0;34m\"model5.h5\"\u001b[0m\u001b[0;34m)\u001b[0m\u001b[0;34m\u001b[0m\u001b[0;34m\u001b[0m\u001b[0m\n\u001b[0m",
      "\u001b[0;31mNameError\u001b[0m: name 'load_model' is not defined"
     ]
    }
   ],
   "source": [
    "model = load_model(\"model5.h5\")"
   ]
  },
  {
   "cell_type": "code",
   "execution_count": 5,
   "id": "925686c5-e46f-419d-8cb7-393a4e5837fe",
   "metadata": {},
   "outputs": [
    {
     "name": "stdout",
     "output_type": "stream",
     "text": [
      "WARNING:tensorflow:Error in loading the saved optimizer state. As a result, your model is starting with a freshly initialized optimizer.\n"
     ]
    }
   ],
   "source": [
    "m = tf.keras.models.load_model(\"model5.h5\")"
   ]
  },
  {
   "cell_type": "code",
   "execution_count": 6,
   "id": "4efcf4bb-4a77-47a2-b584-7567b689fb0a",
   "metadata": {},
   "outputs": [],
   "source": [
    "classes = ['airplane', 'automobile', 'bird', 'cat', 'deer', 'dog', 'frog', 'horse', 'ship', 'truck',]"
   ]
  },
  {
   "cell_type": "code",
   "execution_count": 7,
   "id": "a2c07bde-ff5a-4789-8329-2eda1e67266d",
   "metadata": {},
   "outputs": [],
   "source": [
    "from tensorflow.keras.preprocessing.image import load_img, img_to_array\n",
    "def predict_class(filename, model):\n",
    "    img = load_img(filename, target_size=(32,32))\n",
    "    plt.imshow(img)\n",
    "    img = img_to_array(img)\n",
    "    img = img.reshape(1,32,32,3)\n",
    "    img = img.astype('float32')\n",
    "    img = img/225.0\n",
    "    result = model.predict(img)\n",
    "    Dict2 = {}\n",
    "    for i in range(10):\n",
    "        Dict2[result[0][i]] = classes[i]\n",
    "    res = result[0]\n",
    "    res.sort()\n",
    "    #conveting index\n",
    "    res = res[::-1]\n",
    "    results =res\n",
    "    print(\"Top predictions of these images are\")\n",
    "    for i in results:\n",
    "        print(\"{} : {} \".format(Dict2[i] , (i*100).round(2)))"
   ]
  },
  {
   "cell_type": "code",
   "execution_count": null,
   "id": "5384bd9d-a0d4-4656-b914-c23ca5e82e42",
   "metadata": {},
   "outputs": [],
   "source": [
    "predict_class(\""
   ]
  }
 ],
 "metadata": {
  "kernelspec": {
   "display_name": "Python 3 (ipykernel)",
   "language": "python",
   "name": "python3"
  },
  "language_info": {
   "codemirror_mode": {
    "name": "ipython",
    "version": 3
   },
   "file_extension": ".py",
   "mimetype": "text/x-python",
   "name": "python",
   "nbconvert_exporter": "python",
   "pygments_lexer": "ipython3",
   "version": "3.9.7"
  },
  "widgets": {
   "application/vnd.jupyter.widget-state+json": {
    "state": {},
    "version_major": 2,
    "version_minor": 0
   }
  }
 },
 "nbformat": 4,
 "nbformat_minor": 5
}
