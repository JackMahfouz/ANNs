{
 "cells": [
  {
   "cell_type": "code",
   "execution_count": 6,
   "id": "856b8c3a-0d16-4e2c-a589-0e0ca03e2182",
   "metadata": {},
   "outputs": [
    {
     "name": "stderr",
     "output_type": "stream",
     "text": [
      "2022-07-25 12:22:35.898173: W tensorflow/stream_executor/platform/default/dso_loader.cc:64] Could not load dynamic library 'libcudart.so.11.0'; dlerror: libcudart.so.11.0: cannot open shared object file: No such file or directory\n",
      "2022-07-25 12:22:35.898208: I tensorflow/stream_executor/cuda/cudart_stub.cc:29] Ignore above cudart dlerror if you do not have a GPU set up on your machine.\n"
     ]
    }
   ],
   "source": [
    "import tensorflow as tf\n",
    "from tensorflow import keras \n",
    "import pandas as pd"
   ]
  },
  {
   "cell_type": "code",
   "execution_count": 2,
   "id": "eb273776-9502-4ea0-8b98-0e11ca4f5b7d",
   "metadata": {},
   "outputs": [],
   "source": [
    "import matplotlib.pyplot as plt\n",
    "%matplotlib inline"
   ]
  },
  {
   "cell_type": "markdown",
   "id": "bdff45cc-e464-41a1-bb49-8ef48fcc3396",
   "metadata": {},
   "source": [
    "importing our dataset"
   ]
  },
  {
   "cell_type": "code",
   "execution_count": 3,
   "id": "7fcfcdbf-0c0c-43d7-a3e3-5247a988acc4",
   "metadata": {},
   "outputs": [],
   "source": [
    "data = pd.read_csv('Churn_Modelling.csv')"
   ]
  },
  {
   "cell_type": "markdown",
   "id": "f21b1890-5ef9-4909-81e4-f9544b893e53",
   "metadata": {},
   "source": [
    "Randomizing data "
   ]
  },
  {
   "cell_type": "code",
   "execution_count": 4,
   "id": "1b5ab16e-2224-4a31-b5c5-5a3a17bdded8",
   "metadata": {},
   "outputs": [],
   "source": [
    "from sklearn.utils import shuffle"
   ]
  },
  {
   "cell_type": "code",
   "execution_count": 5,
   "id": "1bf25d37-7160-41f7-b4cf-bb5a3a91d300",
   "metadata": {},
   "outputs": [],
   "source": [
    "data = shuffle(data)"
   ]
  },
  {
   "cell_type": "code",
   "execution_count": 6,
   "id": "72e6462a-e927-4a49-8f66-03be65725ca9",
   "metadata": {},
   "outputs": [
    {
     "data": {
      "text/html": [
       "<div>\n",
       "<style scoped>\n",
       "    .dataframe tbody tr th:only-of-type {\n",
       "        vertical-align: middle;\n",
       "    }\n",
       "\n",
       "    .dataframe tbody tr th {\n",
       "        vertical-align: top;\n",
       "    }\n",
       "\n",
       "    .dataframe thead th {\n",
       "        text-align: right;\n",
       "    }\n",
       "</style>\n",
       "<table border=\"1\" class=\"dataframe\">\n",
       "  <thead>\n",
       "    <tr style=\"text-align: right;\">\n",
       "      <th></th>\n",
       "      <th>RowNumber</th>\n",
       "      <th>CustomerId</th>\n",
       "      <th>Surname</th>\n",
       "      <th>CreditScore</th>\n",
       "      <th>Geography</th>\n",
       "      <th>Gender</th>\n",
       "      <th>Age</th>\n",
       "      <th>Tenure</th>\n",
       "      <th>Balance</th>\n",
       "      <th>NumOfProducts</th>\n",
       "      <th>HasCrCard</th>\n",
       "      <th>IsActiveMember</th>\n",
       "      <th>EstimatedSalary</th>\n",
       "      <th>Exited</th>\n",
       "    </tr>\n",
       "  </thead>\n",
       "  <tbody>\n",
       "    <tr>\n",
       "      <th>2153</th>\n",
       "      <td>2154</td>\n",
       "      <td>15694200</td>\n",
       "      <td>Gardner</td>\n",
       "      <td>693</td>\n",
       "      <td>France</td>\n",
       "      <td>Male</td>\n",
       "      <td>36</td>\n",
       "      <td>8</td>\n",
       "      <td>178111.82</td>\n",
       "      <td>1</td>\n",
       "      <td>0</td>\n",
       "      <td>0</td>\n",
       "      <td>58719.63</td>\n",
       "      <td>1</td>\n",
       "    </tr>\n",
       "    <tr>\n",
       "      <th>8635</th>\n",
       "      <td>8636</td>\n",
       "      <td>15608701</td>\n",
       "      <td>Chialuka</td>\n",
       "      <td>651</td>\n",
       "      <td>Germany</td>\n",
       "      <td>Male</td>\n",
       "      <td>29</td>\n",
       "      <td>3</td>\n",
       "      <td>121890.06</td>\n",
       "      <td>1</td>\n",
       "      <td>1</td>\n",
       "      <td>0</td>\n",
       "      <td>54530.51</td>\n",
       "      <td>1</td>\n",
       "    </tr>\n",
       "    <tr>\n",
       "      <th>696</th>\n",
       "      <td>697</td>\n",
       "      <td>15727299</td>\n",
       "      <td>Edgar</td>\n",
       "      <td>445</td>\n",
       "      <td>Spain</td>\n",
       "      <td>Male</td>\n",
       "      <td>62</td>\n",
       "      <td>1</td>\n",
       "      <td>64119.38</td>\n",
       "      <td>1</td>\n",
       "      <td>1</td>\n",
       "      <td>1</td>\n",
       "      <td>76569.64</td>\n",
       "      <td>1</td>\n",
       "    </tr>\n",
       "    <tr>\n",
       "      <th>848</th>\n",
       "      <td>849</td>\n",
       "      <td>15646558</td>\n",
       "      <td>Clamp</td>\n",
       "      <td>611</td>\n",
       "      <td>Spain</td>\n",
       "      <td>Male</td>\n",
       "      <td>51</td>\n",
       "      <td>1</td>\n",
       "      <td>122874.74</td>\n",
       "      <td>1</td>\n",
       "      <td>1</td>\n",
       "      <td>1</td>\n",
       "      <td>149648.45</td>\n",
       "      <td>0</td>\n",
       "    </tr>\n",
       "    <tr>\n",
       "      <th>2320</th>\n",
       "      <td>2321</td>\n",
       "      <td>15775888</td>\n",
       "      <td>McDonald</td>\n",
       "      <td>593</td>\n",
       "      <td>Germany</td>\n",
       "      <td>Female</td>\n",
       "      <td>38</td>\n",
       "      <td>5</td>\n",
       "      <td>85626.60</td>\n",
       "      <td>1</td>\n",
       "      <td>1</td>\n",
       "      <td>1</td>\n",
       "      <td>125079.65</td>\n",
       "      <td>0</td>\n",
       "    </tr>\n",
       "    <tr>\n",
       "      <th>...</th>\n",
       "      <td>...</td>\n",
       "      <td>...</td>\n",
       "      <td>...</td>\n",
       "      <td>...</td>\n",
       "      <td>...</td>\n",
       "      <td>...</td>\n",
       "      <td>...</td>\n",
       "      <td>...</td>\n",
       "      <td>...</td>\n",
       "      <td>...</td>\n",
       "      <td>...</td>\n",
       "      <td>...</td>\n",
       "      <td>...</td>\n",
       "      <td>...</td>\n",
       "    </tr>\n",
       "    <tr>\n",
       "      <th>5899</th>\n",
       "      <td>5900</td>\n",
       "      <td>15793901</td>\n",
       "      <td>Capon</td>\n",
       "      <td>639</td>\n",
       "      <td>France</td>\n",
       "      <td>Female</td>\n",
       "      <td>27</td>\n",
       "      <td>2</td>\n",
       "      <td>0.00</td>\n",
       "      <td>2</td>\n",
       "      <td>0</td>\n",
       "      <td>0</td>\n",
       "      <td>125244.18</td>\n",
       "      <td>0</td>\n",
       "    </tr>\n",
       "    <tr>\n",
       "      <th>3942</th>\n",
       "      <td>3943</td>\n",
       "      <td>15786167</td>\n",
       "      <td>Andreyeva</td>\n",
       "      <td>649</td>\n",
       "      <td>Spain</td>\n",
       "      <td>Male</td>\n",
       "      <td>20</td>\n",
       "      <td>5</td>\n",
       "      <td>0.00</td>\n",
       "      <td>2</td>\n",
       "      <td>1</td>\n",
       "      <td>1</td>\n",
       "      <td>58309.54</td>\n",
       "      <td>0</td>\n",
       "    </tr>\n",
       "    <tr>\n",
       "      <th>3740</th>\n",
       "      <td>3741</td>\n",
       "      <td>15777855</td>\n",
       "      <td>Manna</td>\n",
       "      <td>649</td>\n",
       "      <td>France</td>\n",
       "      <td>Male</td>\n",
       "      <td>45</td>\n",
       "      <td>7</td>\n",
       "      <td>0.00</td>\n",
       "      <td>2</td>\n",
       "      <td>0</td>\n",
       "      <td>1</td>\n",
       "      <td>75204.21</td>\n",
       "      <td>0</td>\n",
       "    </tr>\n",
       "    <tr>\n",
       "      <th>8704</th>\n",
       "      <td>8705</td>\n",
       "      <td>15777586</td>\n",
       "      <td>Moss</td>\n",
       "      <td>784</td>\n",
       "      <td>Spain</td>\n",
       "      <td>Female</td>\n",
       "      <td>42</td>\n",
       "      <td>2</td>\n",
       "      <td>109052.04</td>\n",
       "      <td>2</td>\n",
       "      <td>1</td>\n",
       "      <td>0</td>\n",
       "      <td>6409.55</td>\n",
       "      <td>0</td>\n",
       "    </tr>\n",
       "    <tr>\n",
       "      <th>5554</th>\n",
       "      <td>5555</td>\n",
       "      <td>15784218</td>\n",
       "      <td>Mason</td>\n",
       "      <td>620</td>\n",
       "      <td>Spain</td>\n",
       "      <td>Male</td>\n",
       "      <td>38</td>\n",
       "      <td>0</td>\n",
       "      <td>0.00</td>\n",
       "      <td>2</td>\n",
       "      <td>1</td>\n",
       "      <td>1</td>\n",
       "      <td>38015.34</td>\n",
       "      <td>0</td>\n",
       "    </tr>\n",
       "  </tbody>\n",
       "</table>\n",
       "<p>10000 rows × 14 columns</p>\n",
       "</div>"
      ],
      "text/plain": [
       "      RowNumber  CustomerId    Surname  CreditScore Geography  Gender  Age  \\\n",
       "2153       2154    15694200    Gardner          693    France    Male   36   \n",
       "8635       8636    15608701   Chialuka          651   Germany    Male   29   \n",
       "696         697    15727299      Edgar          445     Spain    Male   62   \n",
       "848         849    15646558      Clamp          611     Spain    Male   51   \n",
       "2320       2321    15775888   McDonald          593   Germany  Female   38   \n",
       "...         ...         ...        ...          ...       ...     ...  ...   \n",
       "5899       5900    15793901      Capon          639    France  Female   27   \n",
       "3942       3943    15786167  Andreyeva          649     Spain    Male   20   \n",
       "3740       3741    15777855      Manna          649    France    Male   45   \n",
       "8704       8705    15777586       Moss          784     Spain  Female   42   \n",
       "5554       5555    15784218      Mason          620     Spain    Male   38   \n",
       "\n",
       "      Tenure    Balance  NumOfProducts  HasCrCard  IsActiveMember  \\\n",
       "2153       8  178111.82              1          0               0   \n",
       "8635       3  121890.06              1          1               0   \n",
       "696        1   64119.38              1          1               1   \n",
       "848        1  122874.74              1          1               1   \n",
       "2320       5   85626.60              1          1               1   \n",
       "...      ...        ...            ...        ...             ...   \n",
       "5899       2       0.00              2          0               0   \n",
       "3942       5       0.00              2          1               1   \n",
       "3740       7       0.00              2          0               1   \n",
       "8704       2  109052.04              2          1               0   \n",
       "5554       0       0.00              2          1               1   \n",
       "\n",
       "      EstimatedSalary  Exited  \n",
       "2153         58719.63       1  \n",
       "8635         54530.51       1  \n",
       "696          76569.64       1  \n",
       "848         149648.45       0  \n",
       "2320        125079.65       0  \n",
       "...               ...     ...  \n",
       "5899        125244.18       0  \n",
       "3942         58309.54       0  \n",
       "3740         75204.21       0  \n",
       "8704          6409.55       0  \n",
       "5554         38015.34       0  \n",
       "\n",
       "[10000 rows x 14 columns]"
      ]
     },
     "execution_count": 6,
     "metadata": {},
     "output_type": "execute_result"
    }
   ],
   "source": [
    "data"
   ]
  },
  {
   "cell_type": "markdown",
   "id": "34489ba3-7da1-4ce8-a99d-4558a3fc805c",
   "metadata": {},
   "source": [
    "Preprocessing our Data"
   ]
  },
  {
   "cell_type": "code",
   "execution_count": 7,
   "id": "38f75ef9-8ac7-4569-8b5e-6e61312dbb02",
   "metadata": {},
   "outputs": [],
   "source": [
    "from sklearn.preprocessing import StandardScaler as sc\n",
    "from sklearn.preprocessing import LabelEncoder as le"
   ]
  },
  {
   "cell_type": "markdown",
   "id": "1711beae-dcd1-4e53-abcc-e3fbcde1d636",
   "metadata": {},
   "source": [
    "1- Checking NULLs"
   ]
  },
  {
   "cell_type": "code",
   "execution_count": 8,
   "id": "bba0c545-fd10-4f32-9c27-3453248c23b4",
   "metadata": {},
   "outputs": [
    {
     "data": {
      "text/plain": [
       "RowNumber          0\n",
       "CustomerId         0\n",
       "Surname            0\n",
       "CreditScore        0\n",
       "Geography          0\n",
       "Gender             0\n",
       "Age                0\n",
       "Tenure             0\n",
       "Balance            0\n",
       "NumOfProducts      0\n",
       "HasCrCard          0\n",
       "IsActiveMember     0\n",
       "EstimatedSalary    0\n",
       "Exited             0\n",
       "dtype: int64"
      ]
     },
     "execution_count": 8,
     "metadata": {},
     "output_type": "execute_result"
    }
   ],
   "source": [
    "data.isnull().sum()"
   ]
  },
  {
   "cell_type": "markdown",
   "id": "26d9fcc5-d5a8-4f7d-ae45-840bc64d2230",
   "metadata": {},
   "source": [
    "Selecting features and labels"
   ]
  },
  {
   "cell_type": "code",
   "execution_count": 9,
   "id": "7de59d71-f0b3-4c38-ba62-ab16b1a7ad78",
   "metadata": {},
   "outputs": [],
   "source": [
    "x = data.drop(labels=['CustomerId', 'Surname', 'RowNumber', 'Exited'], axis = 1)"
   ]
  },
  {
   "cell_type": "code",
   "execution_count": 10,
   "id": "4c065d9a-a359-4af8-94a3-7e1498f14897",
   "metadata": {},
   "outputs": [
    {
     "data": {
      "text/html": [
       "<div>\n",
       "<style scoped>\n",
       "    .dataframe tbody tr th:only-of-type {\n",
       "        vertical-align: middle;\n",
       "    }\n",
       "\n",
       "    .dataframe tbody tr th {\n",
       "        vertical-align: top;\n",
       "    }\n",
       "\n",
       "    .dataframe thead th {\n",
       "        text-align: right;\n",
       "    }\n",
       "</style>\n",
       "<table border=\"1\" class=\"dataframe\">\n",
       "  <thead>\n",
       "    <tr style=\"text-align: right;\">\n",
       "      <th></th>\n",
       "      <th>CreditScore</th>\n",
       "      <th>Geography</th>\n",
       "      <th>Gender</th>\n",
       "      <th>Age</th>\n",
       "      <th>Tenure</th>\n",
       "      <th>Balance</th>\n",
       "      <th>NumOfProducts</th>\n",
       "      <th>HasCrCard</th>\n",
       "      <th>IsActiveMember</th>\n",
       "      <th>EstimatedSalary</th>\n",
       "    </tr>\n",
       "  </thead>\n",
       "  <tbody>\n",
       "    <tr>\n",
       "      <th>2153</th>\n",
       "      <td>693</td>\n",
       "      <td>France</td>\n",
       "      <td>Male</td>\n",
       "      <td>36</td>\n",
       "      <td>8</td>\n",
       "      <td>178111.82</td>\n",
       "      <td>1</td>\n",
       "      <td>0</td>\n",
       "      <td>0</td>\n",
       "      <td>58719.63</td>\n",
       "    </tr>\n",
       "    <tr>\n",
       "      <th>8635</th>\n",
       "      <td>651</td>\n",
       "      <td>Germany</td>\n",
       "      <td>Male</td>\n",
       "      <td>29</td>\n",
       "      <td>3</td>\n",
       "      <td>121890.06</td>\n",
       "      <td>1</td>\n",
       "      <td>1</td>\n",
       "      <td>0</td>\n",
       "      <td>54530.51</td>\n",
       "    </tr>\n",
       "    <tr>\n",
       "      <th>696</th>\n",
       "      <td>445</td>\n",
       "      <td>Spain</td>\n",
       "      <td>Male</td>\n",
       "      <td>62</td>\n",
       "      <td>1</td>\n",
       "      <td>64119.38</td>\n",
       "      <td>1</td>\n",
       "      <td>1</td>\n",
       "      <td>1</td>\n",
       "      <td>76569.64</td>\n",
       "    </tr>\n",
       "    <tr>\n",
       "      <th>848</th>\n",
       "      <td>611</td>\n",
       "      <td>Spain</td>\n",
       "      <td>Male</td>\n",
       "      <td>51</td>\n",
       "      <td>1</td>\n",
       "      <td>122874.74</td>\n",
       "      <td>1</td>\n",
       "      <td>1</td>\n",
       "      <td>1</td>\n",
       "      <td>149648.45</td>\n",
       "    </tr>\n",
       "    <tr>\n",
       "      <th>2320</th>\n",
       "      <td>593</td>\n",
       "      <td>Germany</td>\n",
       "      <td>Female</td>\n",
       "      <td>38</td>\n",
       "      <td>5</td>\n",
       "      <td>85626.60</td>\n",
       "      <td>1</td>\n",
       "      <td>1</td>\n",
       "      <td>1</td>\n",
       "      <td>125079.65</td>\n",
       "    </tr>\n",
       "    <tr>\n",
       "      <th>...</th>\n",
       "      <td>...</td>\n",
       "      <td>...</td>\n",
       "      <td>...</td>\n",
       "      <td>...</td>\n",
       "      <td>...</td>\n",
       "      <td>...</td>\n",
       "      <td>...</td>\n",
       "      <td>...</td>\n",
       "      <td>...</td>\n",
       "      <td>...</td>\n",
       "    </tr>\n",
       "    <tr>\n",
       "      <th>5899</th>\n",
       "      <td>639</td>\n",
       "      <td>France</td>\n",
       "      <td>Female</td>\n",
       "      <td>27</td>\n",
       "      <td>2</td>\n",
       "      <td>0.00</td>\n",
       "      <td>2</td>\n",
       "      <td>0</td>\n",
       "      <td>0</td>\n",
       "      <td>125244.18</td>\n",
       "    </tr>\n",
       "    <tr>\n",
       "      <th>3942</th>\n",
       "      <td>649</td>\n",
       "      <td>Spain</td>\n",
       "      <td>Male</td>\n",
       "      <td>20</td>\n",
       "      <td>5</td>\n",
       "      <td>0.00</td>\n",
       "      <td>2</td>\n",
       "      <td>1</td>\n",
       "      <td>1</td>\n",
       "      <td>58309.54</td>\n",
       "    </tr>\n",
       "    <tr>\n",
       "      <th>3740</th>\n",
       "      <td>649</td>\n",
       "      <td>France</td>\n",
       "      <td>Male</td>\n",
       "      <td>45</td>\n",
       "      <td>7</td>\n",
       "      <td>0.00</td>\n",
       "      <td>2</td>\n",
       "      <td>0</td>\n",
       "      <td>1</td>\n",
       "      <td>75204.21</td>\n",
       "    </tr>\n",
       "    <tr>\n",
       "      <th>8704</th>\n",
       "      <td>784</td>\n",
       "      <td>Spain</td>\n",
       "      <td>Female</td>\n",
       "      <td>42</td>\n",
       "      <td>2</td>\n",
       "      <td>109052.04</td>\n",
       "      <td>2</td>\n",
       "      <td>1</td>\n",
       "      <td>0</td>\n",
       "      <td>6409.55</td>\n",
       "    </tr>\n",
       "    <tr>\n",
       "      <th>5554</th>\n",
       "      <td>620</td>\n",
       "      <td>Spain</td>\n",
       "      <td>Male</td>\n",
       "      <td>38</td>\n",
       "      <td>0</td>\n",
       "      <td>0.00</td>\n",
       "      <td>2</td>\n",
       "      <td>1</td>\n",
       "      <td>1</td>\n",
       "      <td>38015.34</td>\n",
       "    </tr>\n",
       "  </tbody>\n",
       "</table>\n",
       "<p>10000 rows × 10 columns</p>\n",
       "</div>"
      ],
      "text/plain": [
       "      CreditScore Geography  Gender  Age  Tenure    Balance  NumOfProducts  \\\n",
       "2153          693    France    Male   36       8  178111.82              1   \n",
       "8635          651   Germany    Male   29       3  121890.06              1   \n",
       "696           445     Spain    Male   62       1   64119.38              1   \n",
       "848           611     Spain    Male   51       1  122874.74              1   \n",
       "2320          593   Germany  Female   38       5   85626.60              1   \n",
       "...           ...       ...     ...  ...     ...        ...            ...   \n",
       "5899          639    France  Female   27       2       0.00              2   \n",
       "3942          649     Spain    Male   20       5       0.00              2   \n",
       "3740          649    France    Male   45       7       0.00              2   \n",
       "8704          784     Spain  Female   42       2  109052.04              2   \n",
       "5554          620     Spain    Male   38       0       0.00              2   \n",
       "\n",
       "      HasCrCard  IsActiveMember  EstimatedSalary  \n",
       "2153          0               0         58719.63  \n",
       "8635          1               0         54530.51  \n",
       "696           1               1         76569.64  \n",
       "848           1               1        149648.45  \n",
       "2320          1               1        125079.65  \n",
       "...         ...             ...              ...  \n",
       "5899          0               0        125244.18  \n",
       "3942          1               1         58309.54  \n",
       "3740          0               1         75204.21  \n",
       "8704          1               0          6409.55  \n",
       "5554          1               1         38015.34  \n",
       "\n",
       "[10000 rows x 10 columns]"
      ]
     },
     "execution_count": 10,
     "metadata": {},
     "output_type": "execute_result"
    }
   ],
   "source": [
    "x"
   ]
  },
  {
   "cell_type": "code",
   "execution_count": 11,
   "id": "587c4e97-c993-480f-83cd-caeab1cd1737",
   "metadata": {},
   "outputs": [],
   "source": [
    "y = data['Exited']"
   ]
  },
  {
   "cell_type": "code",
   "execution_count": 12,
   "id": "3fdda28a-1941-4713-9ae1-886397cf09b6",
   "metadata": {},
   "outputs": [
    {
     "data": {
      "text/plain": [
       "2153    1\n",
       "8635    1\n",
       "696     1\n",
       "848     0\n",
       "2320    0\n",
       "       ..\n",
       "5899    0\n",
       "3942    0\n",
       "3740    0\n",
       "8704    0\n",
       "5554    0\n",
       "Name: Exited, Length: 10000, dtype: int64"
      ]
     },
     "execution_count": 12,
     "metadata": {},
     "output_type": "execute_result"
    }
   ],
   "source": [
    "y"
   ]
  },
  {
   "cell_type": "markdown",
   "id": "aef03d6a-fbe3-487e-985f-26561e8bd125",
   "metadata": {},
   "source": [
    "we have here x as features and y as labels(targets)"
   ]
  },
  {
   "cell_type": "code",
   "execution_count": 13,
   "id": "d6f8feec-8fd0-414d-8889-95b8d5343a4a",
   "metadata": {},
   "outputs": [
    {
     "data": {
      "text/plain": [
       "(10000,)"
      ]
     },
     "execution_count": 13,
     "metadata": {},
     "output_type": "execute_result"
    }
   ],
   "source": [
    "y.shape"
   ]
  },
  {
   "cell_type": "code",
   "execution_count": 14,
   "id": "d925e590-a2cf-41da-b582-1583c7cb8615",
   "metadata": {},
   "outputs": [
    {
     "data": {
      "text/plain": [
       "(10000, 10)"
      ]
     },
     "execution_count": 14,
     "metadata": {},
     "output_type": "execute_result"
    }
   ],
   "source": [
    "x.shape"
   ]
  },
  {
   "cell_type": "markdown",
   "id": "3534e46b-d067-437a-9e6f-95aacb1aec30",
   "metadata": {},
   "source": [
    "Encoding Categorical Columns as neural nets can't be feed with non numerical data"
   ]
  },
  {
   "cell_type": "code",
   "execution_count": 15,
   "id": "4f725977-9d8f-49ff-8dc4-8a4a81cb2178",
   "metadata": {},
   "outputs": [
    {
     "data": {
      "text/plain": [
       "CreditScore          int64\n",
       "Geography           object\n",
       "Gender              object\n",
       "Age                  int64\n",
       "Tenure               int64\n",
       "Balance            float64\n",
       "NumOfProducts        int64\n",
       "HasCrCard            int64\n",
       "IsActiveMember       int64\n",
       "EstimatedSalary    float64\n",
       "dtype: object"
      ]
     },
     "execution_count": 15,
     "metadata": {},
     "output_type": "execute_result"
    }
   ],
   "source": [
    "x.dtypes"
   ]
  },
  {
   "cell_type": "code",
   "execution_count": 16,
   "id": "6bac105f-9c90-4147-a6f4-568d391f78a4",
   "metadata": {},
   "outputs": [],
   "source": [
    "le = le()"
   ]
  },
  {
   "cell_type": "code",
   "execution_count": 17,
   "id": "572b4ace-758d-49d1-ac13-59ac33c52d85",
   "metadata": {},
   "outputs": [],
   "source": [
    "x['Geography'] = le.fit_transform(x['Geography'])\n",
    "x['Gender'] = le.fit_transform(x['Gender'])"
   ]
  },
  {
   "cell_type": "code",
   "execution_count": 18,
   "id": "07e0057f-0ae2-4fcf-b189-b9af4dac0de5",
   "metadata": {},
   "outputs": [
    {
     "data": {
      "text/plain": [
       "2153    0\n",
       "8635    1\n",
       "696     2\n",
       "848     2\n",
       "2320    1\n",
       "       ..\n",
       "5899    0\n",
       "3942    2\n",
       "3740    0\n",
       "8704    2\n",
       "5554    2\n",
       "Name: Geography, Length: 10000, dtype: int64"
      ]
     },
     "execution_count": 18,
     "metadata": {},
     "output_type": "execute_result"
    }
   ],
   "source": [
    "x['Geography']"
   ]
  },
  {
   "cell_type": "code",
   "execution_count": 19,
   "id": "e360bbf4-67cc-43f9-81a6-d6ef264e2033",
   "metadata": {},
   "outputs": [
    {
     "data": {
      "text/plain": [
       "2153    1\n",
       "8635    1\n",
       "696     1\n",
       "848     1\n",
       "2320    0\n",
       "       ..\n",
       "5899    0\n",
       "3942    1\n",
       "3740    1\n",
       "8704    0\n",
       "5554    1\n",
       "Name: Gender, Length: 10000, dtype: int64"
      ]
     },
     "execution_count": 19,
     "metadata": {},
     "output_type": "execute_result"
    }
   ],
   "source": [
    "x['Gender']"
   ]
  },
  {
   "cell_type": "code",
   "execution_count": 20,
   "id": "5dfebe55-877a-4bf2-a3cb-17806f61879f",
   "metadata": {},
   "outputs": [],
   "source": [
    "x = pd.get_dummies(x, drop_first=True, columns=['Geography'])"
   ]
  },
  {
   "cell_type": "code",
   "execution_count": 21,
   "id": "50a38fe9-fdf0-4885-9a87-67710fd57f58",
   "metadata": {},
   "outputs": [
    {
     "data": {
      "text/html": [
       "<div>\n",
       "<style scoped>\n",
       "    .dataframe tbody tr th:only-of-type {\n",
       "        vertical-align: middle;\n",
       "    }\n",
       "\n",
       "    .dataframe tbody tr th {\n",
       "        vertical-align: top;\n",
       "    }\n",
       "\n",
       "    .dataframe thead th {\n",
       "        text-align: right;\n",
       "    }\n",
       "</style>\n",
       "<table border=\"1\" class=\"dataframe\">\n",
       "  <thead>\n",
       "    <tr style=\"text-align: right;\">\n",
       "      <th></th>\n",
       "      <th>CreditScore</th>\n",
       "      <th>Gender</th>\n",
       "      <th>Age</th>\n",
       "      <th>Tenure</th>\n",
       "      <th>Balance</th>\n",
       "      <th>NumOfProducts</th>\n",
       "      <th>HasCrCard</th>\n",
       "      <th>IsActiveMember</th>\n",
       "      <th>EstimatedSalary</th>\n",
       "      <th>Geography_1</th>\n",
       "      <th>Geography_2</th>\n",
       "    </tr>\n",
       "  </thead>\n",
       "  <tbody>\n",
       "    <tr>\n",
       "      <th>2153</th>\n",
       "      <td>693</td>\n",
       "      <td>1</td>\n",
       "      <td>36</td>\n",
       "      <td>8</td>\n",
       "      <td>178111.82</td>\n",
       "      <td>1</td>\n",
       "      <td>0</td>\n",
       "      <td>0</td>\n",
       "      <td>58719.63</td>\n",
       "      <td>0</td>\n",
       "      <td>0</td>\n",
       "    </tr>\n",
       "    <tr>\n",
       "      <th>8635</th>\n",
       "      <td>651</td>\n",
       "      <td>1</td>\n",
       "      <td>29</td>\n",
       "      <td>3</td>\n",
       "      <td>121890.06</td>\n",
       "      <td>1</td>\n",
       "      <td>1</td>\n",
       "      <td>0</td>\n",
       "      <td>54530.51</td>\n",
       "      <td>1</td>\n",
       "      <td>0</td>\n",
       "    </tr>\n",
       "    <tr>\n",
       "      <th>696</th>\n",
       "      <td>445</td>\n",
       "      <td>1</td>\n",
       "      <td>62</td>\n",
       "      <td>1</td>\n",
       "      <td>64119.38</td>\n",
       "      <td>1</td>\n",
       "      <td>1</td>\n",
       "      <td>1</td>\n",
       "      <td>76569.64</td>\n",
       "      <td>0</td>\n",
       "      <td>1</td>\n",
       "    </tr>\n",
       "    <tr>\n",
       "      <th>848</th>\n",
       "      <td>611</td>\n",
       "      <td>1</td>\n",
       "      <td>51</td>\n",
       "      <td>1</td>\n",
       "      <td>122874.74</td>\n",
       "      <td>1</td>\n",
       "      <td>1</td>\n",
       "      <td>1</td>\n",
       "      <td>149648.45</td>\n",
       "      <td>0</td>\n",
       "      <td>1</td>\n",
       "    </tr>\n",
       "    <tr>\n",
       "      <th>2320</th>\n",
       "      <td>593</td>\n",
       "      <td>0</td>\n",
       "      <td>38</td>\n",
       "      <td>5</td>\n",
       "      <td>85626.60</td>\n",
       "      <td>1</td>\n",
       "      <td>1</td>\n",
       "      <td>1</td>\n",
       "      <td>125079.65</td>\n",
       "      <td>1</td>\n",
       "      <td>0</td>\n",
       "    </tr>\n",
       "    <tr>\n",
       "      <th>...</th>\n",
       "      <td>...</td>\n",
       "      <td>...</td>\n",
       "      <td>...</td>\n",
       "      <td>...</td>\n",
       "      <td>...</td>\n",
       "      <td>...</td>\n",
       "      <td>...</td>\n",
       "      <td>...</td>\n",
       "      <td>...</td>\n",
       "      <td>...</td>\n",
       "      <td>...</td>\n",
       "    </tr>\n",
       "    <tr>\n",
       "      <th>5899</th>\n",
       "      <td>639</td>\n",
       "      <td>0</td>\n",
       "      <td>27</td>\n",
       "      <td>2</td>\n",
       "      <td>0.00</td>\n",
       "      <td>2</td>\n",
       "      <td>0</td>\n",
       "      <td>0</td>\n",
       "      <td>125244.18</td>\n",
       "      <td>0</td>\n",
       "      <td>0</td>\n",
       "    </tr>\n",
       "    <tr>\n",
       "      <th>3942</th>\n",
       "      <td>649</td>\n",
       "      <td>1</td>\n",
       "      <td>20</td>\n",
       "      <td>5</td>\n",
       "      <td>0.00</td>\n",
       "      <td>2</td>\n",
       "      <td>1</td>\n",
       "      <td>1</td>\n",
       "      <td>58309.54</td>\n",
       "      <td>0</td>\n",
       "      <td>1</td>\n",
       "    </tr>\n",
       "    <tr>\n",
       "      <th>3740</th>\n",
       "      <td>649</td>\n",
       "      <td>1</td>\n",
       "      <td>45</td>\n",
       "      <td>7</td>\n",
       "      <td>0.00</td>\n",
       "      <td>2</td>\n",
       "      <td>0</td>\n",
       "      <td>1</td>\n",
       "      <td>75204.21</td>\n",
       "      <td>0</td>\n",
       "      <td>0</td>\n",
       "    </tr>\n",
       "    <tr>\n",
       "      <th>8704</th>\n",
       "      <td>784</td>\n",
       "      <td>0</td>\n",
       "      <td>42</td>\n",
       "      <td>2</td>\n",
       "      <td>109052.04</td>\n",
       "      <td>2</td>\n",
       "      <td>1</td>\n",
       "      <td>0</td>\n",
       "      <td>6409.55</td>\n",
       "      <td>0</td>\n",
       "      <td>1</td>\n",
       "    </tr>\n",
       "    <tr>\n",
       "      <th>5554</th>\n",
       "      <td>620</td>\n",
       "      <td>1</td>\n",
       "      <td>38</td>\n",
       "      <td>0</td>\n",
       "      <td>0.00</td>\n",
       "      <td>2</td>\n",
       "      <td>1</td>\n",
       "      <td>1</td>\n",
       "      <td>38015.34</td>\n",
       "      <td>0</td>\n",
       "      <td>1</td>\n",
       "    </tr>\n",
       "  </tbody>\n",
       "</table>\n",
       "<p>10000 rows × 11 columns</p>\n",
       "</div>"
      ],
      "text/plain": [
       "      CreditScore  Gender  Age  Tenure    Balance  NumOfProducts  HasCrCard  \\\n",
       "2153          693       1   36       8  178111.82              1          0   \n",
       "8635          651       1   29       3  121890.06              1          1   \n",
       "696           445       1   62       1   64119.38              1          1   \n",
       "848           611       1   51       1  122874.74              1          1   \n",
       "2320          593       0   38       5   85626.60              1          1   \n",
       "...           ...     ...  ...     ...        ...            ...        ...   \n",
       "5899          639       0   27       2       0.00              2          0   \n",
       "3942          649       1   20       5       0.00              2          1   \n",
       "3740          649       1   45       7       0.00              2          0   \n",
       "8704          784       0   42       2  109052.04              2          1   \n",
       "5554          620       1   38       0       0.00              2          1   \n",
       "\n",
       "      IsActiveMember  EstimatedSalary  Geography_1  Geography_2  \n",
       "2153               0         58719.63            0            0  \n",
       "8635               0         54530.51            1            0  \n",
       "696                1         76569.64            0            1  \n",
       "848                1        149648.45            0            1  \n",
       "2320               1        125079.65            1            0  \n",
       "...              ...              ...          ...          ...  \n",
       "5899               0        125244.18            0            0  \n",
       "3942               1         58309.54            0            1  \n",
       "3740               1         75204.21            0            0  \n",
       "8704               0          6409.55            0            1  \n",
       "5554               1         38015.34            0            1  \n",
       "\n",
       "[10000 rows x 11 columns]"
      ]
     },
     "execution_count": 21,
     "metadata": {},
     "output_type": "execute_result"
    }
   ],
   "source": [
    "x"
   ]
  },
  {
   "cell_type": "markdown",
   "id": "312e6bf5-ca62-4d18-ada9-f611924723af",
   "metadata": {},
   "source": [
    "Scalling Numerical Values"
   ]
  },
  {
   "cell_type": "code",
   "execution_count": 22,
   "id": "0730a747-c216-42ac-83b3-a31dce7fc496",
   "metadata": {},
   "outputs": [],
   "source": [
    "sc = sc()"
   ]
  },
  {
   "cell_type": "code",
   "execution_count": 23,
   "id": "97f2414d-c8c9-4bc2-964d-0dc3b34036f7",
   "metadata": {},
   "outputs": [],
   "source": [
    "x = sc.fit_transform(x)"
   ]
  },
  {
   "cell_type": "code",
   "execution_count": 24,
   "id": "a90051a5-64f8-49d5-9afd-3bb1934976d9",
   "metadata": {},
   "outputs": [
    {
     "data": {
      "text/plain": [
       "array([[ 0.43943998,  0.91241915, -0.27860412, ..., -0.71939357,\n",
       "        -0.57873591, -0.57380915],\n",
       "       [ 0.0048754 ,  0.91241915, -0.94607926, ..., -0.79223818,\n",
       "         1.72790383, -0.57380915],\n",
       "       [-2.1265604 ,  0.91241915,  2.20058924, ..., -0.40899973,\n",
       "        -0.57873591,  1.74273971],\n",
       "       ...,\n",
       "       [-0.01581815,  0.91241915,  0.5795782 , ..., -0.43274319,\n",
       "        -0.57873591, -0.57380915],\n",
       "       [ 1.38099657, -1.09598752,  0.29351742, ..., -1.62901359,\n",
       "        -0.57873591,  1.74273971],\n",
       "       [-0.31587465,  0.91241915, -0.08789694, ..., -1.07942048,\n",
       "        -0.57873591,  1.74273971]])"
      ]
     },
     "execution_count": 24,
     "metadata": {},
     "output_type": "execute_result"
    }
   ],
   "source": [
    "x"
   ]
  },
  {
   "cell_type": "markdown",
   "id": "aeb7b395-c179-4cae-9953-512e938478f9",
   "metadata": {},
   "source": [
    "Train Test Split"
   ]
  },
  {
   "cell_type": "code",
   "execution_count": 25,
   "id": "b90e73a6-01b5-4bb5-932d-cd78668bea8b",
   "metadata": {},
   "outputs": [],
   "source": [
    "from sklearn.model_selection import train_test_split"
   ]
  },
  {
   "cell_type": "code",
   "execution_count": 26,
   "id": "e2ebe32f-c263-4852-aa20-e834031d9573",
   "metadata": {},
   "outputs": [],
   "source": [
    "x_train, x_test, y_train, y_test = train_test_split(x, y, test_size = 0.3)"
   ]
  },
  {
   "cell_type": "markdown",
   "id": "6d2fa4ed-e208-4838-aa75-218352500fab",
   "metadata": {},
   "source": [
    "Defining our ANN"
   ]
  },
  {
   "cell_type": "code",
   "execution_count": 27,
   "id": "dd326db2-95e9-47b2-ad16-a3adf07ffe4e",
   "metadata": {},
   "outputs": [
    {
     "data": {
      "text/plain": [
       "11"
      ]
     },
     "execution_count": 27,
     "metadata": {},
     "output_type": "execute_result"
    }
   ],
   "source": [
    "x_train.shape[1]"
   ]
  },
  {
   "cell_type": "code",
   "execution_count": 28,
   "id": "31780a12-806d-408d-8987-174d4f2bd44f",
   "metadata": {},
   "outputs": [
    {
     "name": "stderr",
     "output_type": "stream",
     "text": [
      "2022-07-24 18:55:46.921738: W tensorflow/stream_executor/platform/default/dso_loader.cc:64] Could not load dynamic library 'libcuda.so.1'; dlerror: libcuda.so.1: cannot open shared object file: No such file or directory\n",
      "2022-07-24 18:55:46.921792: W tensorflow/stream_executor/cuda/cuda_driver.cc:269] failed call to cuInit: UNKNOWN ERROR (303)\n",
      "2022-07-24 18:55:46.921823: I tensorflow/stream_executor/cuda/cuda_diagnostics.cc:156] kernel driver does not appear to be running on this host (turing-HP-G62-Notebook-PC): /proc/driver/nvidia/version does not exist\n",
      "2022-07-24 18:55:46.941781: I tensorflow/core/platform/cpu_feature_guard.cc:151] This TensorFlow binary is optimized with oneAPI Deep Neural Network Library (oneDNN) to use the following CPU instructions in performance-critical operations:  AVX2 FMA\n",
      "To enable them in other operations, rebuild TensorFlow with the appropriate compiler flags.\n"
     ]
    }
   ],
   "source": [
    "model = keras.models.Sequential()"
   ]
  },
  {
   "cell_type": "code",
   "execution_count": 29,
   "id": "4ce1c0c5-2708-4524-87e9-5992e1811cd6",
   "metadata": {},
   "outputs": [],
   "source": [
    "model.add(keras.layers.Dense(128, activation = 'relu', input_dim = x_train.shape[1]))"
   ]
  },
  {
   "cell_type": "code",
   "execution_count": 30,
   "id": "77cc2311-b446-4aed-8858-acd9d59ee2d3",
   "metadata": {},
   "outputs": [],
   "source": [
    "model.add(keras.layers.Dense(64, activation = 'relu'))"
   ]
  },
  {
   "cell_type": "code",
   "execution_count": 31,
   "id": "80721988-8a11-4d75-bf5a-2e9412adb767",
   "metadata": {},
   "outputs": [],
   "source": [
    "model.add(keras.layers.Dense(32, activation = 'relu'))"
   ]
  },
  {
   "cell_type": "code",
   "execution_count": 32,
   "id": "9932db16-e3b0-4d47-ab51-209cf986eb1f",
   "metadata": {},
   "outputs": [],
   "source": [
    "model.add(keras.layers.Dense(1, activation = 'sigmoid'))"
   ]
  },
  {
   "cell_type": "code",
   "execution_count": 33,
   "id": "94ac1e46-ab49-45ff-be4d-b325c8b01b3d",
   "metadata": {},
   "outputs": [
    {
     "name": "stdout",
     "output_type": "stream",
     "text": [
      "Model: \"sequential\"\n",
      "_________________________________________________________________\n",
      " Layer (type)                Output Shape              Param #   \n",
      "=================================================================\n",
      " dense (Dense)               (None, 128)               1536      \n",
      "                                                                 \n",
      " dense_1 (Dense)             (None, 64)                8256      \n",
      "                                                                 \n",
      " dense_2 (Dense)             (None, 32)                2080      \n",
      "                                                                 \n",
      " dense_3 (Dense)             (None, 1)                 33        \n",
      "                                                                 \n",
      "=================================================================\n",
      "Total params: 11,905\n",
      "Trainable params: 11,905\n",
      "Non-trainable params: 0\n",
      "_________________________________________________________________\n"
     ]
    }
   ],
   "source": [
    "model.summary()"
   ]
  },
  {
   "cell_type": "code",
   "execution_count": 34,
   "id": "3bc358c6-3218-4349-a3c9-5b5bbaae6389",
   "metadata": {},
   "outputs": [],
   "source": [
    "model.compile(loss = 'binary_crossentropy', optimizer='adam', metrics=['accuracy'])"
   ]
  },
  {
   "cell_type": "code",
   "execution_count": 7,
   "id": "be58aa87-a23d-4837-b9aa-0d2a63edea92",
   "metadata": {},
   "outputs": [],
   "source": [
    "import datetime, os"
   ]
  },
  {
   "cell_type": "code",
   "execution_count": 8,
   "id": "d010d57b-8a0f-4eca-997e-64a640a488b2",
   "metadata": {},
   "outputs": [],
   "source": [
    "logdir = os.path.join(\"log\",datetime.datetime.now().strftime(\"%Y%m%d-%H%M%S\"))"
   ]
  },
  {
   "cell_type": "code",
   "execution_count": 9,
   "id": "b84095aa-d23e-408c-89aa-c50243ad0749",
   "metadata": {},
   "outputs": [],
   "source": [
    "tensorboard_callback = tf.keras.callbacks.TensorBoard(logdir, histogram_freq = 1)"
   ]
  },
  {
   "cell_type": "markdown",
   "id": "4376b925-e8c9-41db-9461-54029f27ea7d",
   "metadata": {},
   "source": [
    "training our model"
   ]
  },
  {
   "cell_type": "code",
   "execution_count": 38,
   "id": "7b48411d-3cb2-4248-a772-55b352d53c48",
   "metadata": {},
   "outputs": [
    {
     "name": "stdout",
     "output_type": "stream",
     "text": [
      "Epoch 1/50\n",
      "219/219 [==============================] - 4s 7ms/step - loss: 0.4391 - accuracy: 0.8091 - val_loss: 0.3741 - val_accuracy: 0.8483\n",
      "Epoch 2/50\n",
      "219/219 [==============================] - 1s 4ms/step - loss: 0.3556 - accuracy: 0.8507 - val_loss: 0.3523 - val_accuracy: 0.8563\n",
      "Epoch 3/50\n",
      "219/219 [==============================] - 1s 4ms/step - loss: 0.3409 - accuracy: 0.8601 - val_loss: 0.3505 - val_accuracy: 0.8593\n",
      "Epoch 4/50\n",
      "219/219 [==============================] - 1s 3ms/step - loss: 0.3365 - accuracy: 0.8610 - val_loss: 0.3561 - val_accuracy: 0.8597\n",
      "Epoch 5/50\n",
      "219/219 [==============================] - 1s 4ms/step - loss: 0.3290 - accuracy: 0.8623 - val_loss: 0.3502 - val_accuracy: 0.8553\n",
      "Epoch 6/50\n",
      "219/219 [==============================] - 1s 3ms/step - loss: 0.3247 - accuracy: 0.8636 - val_loss: 0.3446 - val_accuracy: 0.8607\n",
      "Epoch 7/50\n",
      "219/219 [==============================] - 1s 3ms/step - loss: 0.3201 - accuracy: 0.8663 - val_loss: 0.3439 - val_accuracy: 0.8617\n",
      "Epoch 8/50\n",
      "219/219 [==============================] - 1s 4ms/step - loss: 0.3151 - accuracy: 0.8700 - val_loss: 0.3423 - val_accuracy: 0.8590\n",
      "Epoch 9/50\n",
      "219/219 [==============================] - 1s 4ms/step - loss: 0.3131 - accuracy: 0.8676 - val_loss: 0.3468 - val_accuracy: 0.8583\n",
      "Epoch 10/50\n",
      "219/219 [==============================] - 1s 3ms/step - loss: 0.3116 - accuracy: 0.8711 - val_loss: 0.3452 - val_accuracy: 0.8617\n",
      "Epoch 11/50\n",
      "219/219 [==============================] - 1s 3ms/step - loss: 0.3076 - accuracy: 0.8710 - val_loss: 0.3483 - val_accuracy: 0.8610\n",
      "Epoch 12/50\n",
      "219/219 [==============================] - 1s 3ms/step - loss: 0.3056 - accuracy: 0.8729 - val_loss: 0.3479 - val_accuracy: 0.8597\n",
      "Epoch 13/50\n",
      "219/219 [==============================] - 1s 3ms/step - loss: 0.3010 - accuracy: 0.8726 - val_loss: 0.3468 - val_accuracy: 0.8583\n",
      "Epoch 14/50\n",
      "219/219 [==============================] - 1s 3ms/step - loss: 0.2967 - accuracy: 0.8743 - val_loss: 0.3589 - val_accuracy: 0.8580\n",
      "Epoch 15/50\n",
      "219/219 [==============================] - 1s 3ms/step - loss: 0.2948 - accuracy: 0.8753 - val_loss: 0.3643 - val_accuracy: 0.8600\n",
      "Epoch 16/50\n",
      "219/219 [==============================] - 1s 3ms/step - loss: 0.2909 - accuracy: 0.8770 - val_loss: 0.3545 - val_accuracy: 0.8597\n",
      "Epoch 17/50\n",
      "219/219 [==============================] - 1s 3ms/step - loss: 0.2883 - accuracy: 0.8756 - val_loss: 0.3593 - val_accuracy: 0.8583\n",
      "Epoch 18/50\n",
      "219/219 [==============================] - 1s 3ms/step - loss: 0.2826 - accuracy: 0.8800 - val_loss: 0.3615 - val_accuracy: 0.8600\n",
      "Epoch 19/50\n",
      "219/219 [==============================] - 1s 3ms/step - loss: 0.2802 - accuracy: 0.8831 - val_loss: 0.3662 - val_accuracy: 0.8497\n",
      "Epoch 20/50\n",
      "219/219 [==============================] - 1s 4ms/step - loss: 0.2764 - accuracy: 0.8841 - val_loss: 0.3825 - val_accuracy: 0.8470\n",
      "Epoch 21/50\n",
      "219/219 [==============================] - 1s 3ms/step - loss: 0.2703 - accuracy: 0.8864 - val_loss: 0.3715 - val_accuracy: 0.8593\n",
      "Epoch 22/50\n",
      "219/219 [==============================] - 1s 3ms/step - loss: 0.2693 - accuracy: 0.8854 - val_loss: 0.3772 - val_accuracy: 0.8437\n",
      "Epoch 23/50\n",
      "219/219 [==============================] - 1s 3ms/step - loss: 0.2644 - accuracy: 0.8904 - val_loss: 0.3767 - val_accuracy: 0.8517\n",
      "Epoch 24/50\n",
      "219/219 [==============================] - 1s 3ms/step - loss: 0.2642 - accuracy: 0.8883 - val_loss: 0.3799 - val_accuracy: 0.8607\n",
      "Epoch 25/50\n",
      "219/219 [==============================] - 1s 4ms/step - loss: 0.2596 - accuracy: 0.8876 - val_loss: 0.3763 - val_accuracy: 0.8460\n",
      "Epoch 26/50\n",
      "219/219 [==============================] - 1s 3ms/step - loss: 0.2518 - accuracy: 0.8954 - val_loss: 0.3828 - val_accuracy: 0.8540\n",
      "Epoch 27/50\n",
      "219/219 [==============================] - 1s 4ms/step - loss: 0.2529 - accuracy: 0.8939 - val_loss: 0.3804 - val_accuracy: 0.8440\n",
      "Epoch 28/50\n",
      "219/219 [==============================] - 1s 4ms/step - loss: 0.2490 - accuracy: 0.8937 - val_loss: 0.4010 - val_accuracy: 0.8533\n",
      "Epoch 29/50\n",
      "219/219 [==============================] - 1s 3ms/step - loss: 0.2416 - accuracy: 0.8964 - val_loss: 0.3972 - val_accuracy: 0.8490\n",
      "Epoch 30/50\n",
      "219/219 [==============================] - 1s 4ms/step - loss: 0.2396 - accuracy: 0.9006 - val_loss: 0.4007 - val_accuracy: 0.8553\n",
      "Epoch 31/50\n",
      "219/219 [==============================] - 1s 3ms/step - loss: 0.2336 - accuracy: 0.9014 - val_loss: 0.4100 - val_accuracy: 0.8270\n",
      "Epoch 32/50\n",
      "219/219 [==============================] - 1s 3ms/step - loss: 0.2328 - accuracy: 0.9049 - val_loss: 0.4127 - val_accuracy: 0.8367\n",
      "Epoch 33/50\n",
      "219/219 [==============================] - 1s 3ms/step - loss: 0.2268 - accuracy: 0.9040 - val_loss: 0.4227 - val_accuracy: 0.8453\n",
      "Epoch 34/50\n",
      "219/219 [==============================] - 1s 3ms/step - loss: 0.2257 - accuracy: 0.9037 - val_loss: 0.4157 - val_accuracy: 0.8423\n",
      "Epoch 35/50\n",
      "219/219 [==============================] - 1s 4ms/step - loss: 0.2190 - accuracy: 0.9071 - val_loss: 0.4211 - val_accuracy: 0.8450\n",
      "Epoch 36/50\n",
      "219/219 [==============================] - 1s 4ms/step - loss: 0.2216 - accuracy: 0.9029 - val_loss: 0.4181 - val_accuracy: 0.8413\n",
      "Epoch 37/50\n",
      "219/219 [==============================] - 1s 3ms/step - loss: 0.2145 - accuracy: 0.9096 - val_loss: 0.4456 - val_accuracy: 0.8497\n",
      "Epoch 38/50\n",
      "219/219 [==============================] - 1s 3ms/step - loss: 0.2097 - accuracy: 0.9119 - val_loss: 0.4387 - val_accuracy: 0.8480\n",
      "Epoch 39/50\n",
      "219/219 [==============================] - 1s 3ms/step - loss: 0.2062 - accuracy: 0.9129 - val_loss: 0.4413 - val_accuracy: 0.8310\n",
      "Epoch 40/50\n",
      "219/219 [==============================] - 1s 3ms/step - loss: 0.2031 - accuracy: 0.9126 - val_loss: 0.4496 - val_accuracy: 0.8433\n",
      "Epoch 41/50\n",
      "219/219 [==============================] - 1s 3ms/step - loss: 0.2017 - accuracy: 0.9126 - val_loss: 0.4736 - val_accuracy: 0.8480\n",
      "Epoch 42/50\n",
      "219/219 [==============================] - 1s 3ms/step - loss: 0.1946 - accuracy: 0.9161 - val_loss: 0.4603 - val_accuracy: 0.8353\n",
      "Epoch 43/50\n",
      "219/219 [==============================] - 1s 3ms/step - loss: 0.1919 - accuracy: 0.9160 - val_loss: 0.4860 - val_accuracy: 0.8233\n",
      "Epoch 44/50\n",
      "219/219 [==============================] - 1s 3ms/step - loss: 0.1886 - accuracy: 0.9200 - val_loss: 0.4800 - val_accuracy: 0.8307\n",
      "Epoch 45/50\n",
      "219/219 [==============================] - 1s 3ms/step - loss: 0.1857 - accuracy: 0.9211 - val_loss: 0.4918 - val_accuracy: 0.8403\n",
      "Epoch 46/50\n",
      "219/219 [==============================] - 1s 3ms/step - loss: 0.1810 - accuracy: 0.9209 - val_loss: 0.5125 - val_accuracy: 0.8067\n",
      "Epoch 47/50\n",
      "219/219 [==============================] - 1s 3ms/step - loss: 0.1760 - accuracy: 0.9220 - val_loss: 0.4916 - val_accuracy: 0.8307\n",
      "Epoch 48/50\n",
      "219/219 [==============================] - 1s 4ms/step - loss: 0.1700 - accuracy: 0.9287 - val_loss: 0.5179 - val_accuracy: 0.8297\n",
      "Epoch 49/50\n",
      "219/219 [==============================] - 1s 4ms/step - loss: 0.1717 - accuracy: 0.9257 - val_loss: 0.5373 - val_accuracy: 0.8407\n",
      "Epoch 50/50\n",
      "219/219 [==============================] - 1s 3ms/step - loss: 0.1661 - accuracy: 0.9273 - val_loss: 0.5219 - val_accuracy: 0.8313\n"
     ]
    }
   ],
   "source": [
    "result = model.fit(x_train, y_train, batch_size = 32, epochs = 50, validation_data = (x_test, y_test), callbacks = [tensorboard_callback])"
   ]
  },
  {
   "cell_type": "code",
   "execution_count": 1,
   "id": "fc2d720e-ca85-415e-9abd-84cc1473b4b3",
   "metadata": {},
   "outputs": [],
   "source": [
    "%load_ext tensorboard"
   ]
  },
  {
   "cell_type": "code",
   "execution_count": 2,
   "id": "ad01523b-a662-458d-9aa8-d87cb4105c24",
   "metadata": {},
   "outputs": [
    {
     "data": {
      "text/html": [
       "\n",
       "      <iframe id=\"tensorboard-frame-c4928e9a4a7159e9\" width=\"100%\" height=\"800\" frameborder=\"0\">\n",
       "      </iframe>\n",
       "      <script>\n",
       "        (function() {\n",
       "          const frame = document.getElementById(\"tensorboard-frame-c4928e9a4a7159e9\");\n",
       "          const url = new URL(\"/\", window.location);\n",
       "          const port = 6007;\n",
       "          if (port) {\n",
       "            url.port = port;\n",
       "          }\n",
       "          frame.src = url;\n",
       "        })();\n",
       "      </script>\n",
       "    "
      ],
      "text/plain": [
       "<IPython.core.display.HTML object>"
      ]
     },
     "metadata": {},
     "output_type": "display_data"
    }
   ],
   "source": [
    "%tensorboard --logdir log"
   ]
  },
  {
   "cell_type": "code",
   "execution_count": 41,
   "id": "866876d2-a55a-4939-971d-d108ef8789b3",
   "metadata": {},
   "outputs": [],
   "source": [
    "predictions = model.predict(x_test)"
   ]
  },
  {
   "cell_type": "code",
   "execution_count": 42,
   "id": "5d783865-6ca8-4c6c-a902-47e24fe2d846",
   "metadata": {},
   "outputs": [],
   "source": [
    "import numpy as np"
   ]
  },
  {
   "cell_type": "code",
   "execution_count": 43,
   "id": "68487edf-6d6d-49f4-a8e6-14d749549d3b",
   "metadata": {},
   "outputs": [
    {
     "ename": "NameError",
     "evalue": "name 'maxValue' is not defined",
     "output_type": "error",
     "traceback": [
      "\u001b[0;31m---------------------------------------------------------------------------\u001b[0m",
      "\u001b[0;31mNameError\u001b[0m                                 Traceback (most recent call last)",
      "\u001b[0;32m/tmp/ipykernel_21420/1957565605.py\u001b[0m in \u001b[0;36m<module>\u001b[0;34m\u001b[0m\n\u001b[0;32m----> 1\u001b[0;31m \u001b[0mthreshold\u001b[0m \u001b[0;34m=\u001b[0m \u001b[0;34m(\u001b[0m\u001b[0;34m(\u001b[0m\u001b[0mmaxValue\u001b[0m \u001b[0;34m+\u001b[0m \u001b[0mminValue\u001b[0m\u001b[0;34m)\u001b[0m\u001b[0;34m/\u001b[0m\u001b[0;36m2\u001b[0m\u001b[0;34m)\u001b[0m\u001b[0;34m-\u001b[0m\u001b[0;34m(\u001b[0m\u001b[0;36m2\u001b[0m\u001b[0;34m*\u001b[0m\u001b[0mnp\u001b[0m\u001b[0;34m.\u001b[0m\u001b[0mmean\u001b[0m\u001b[0;34m(\u001b[0m\u001b[0mpredictions\u001b[0m\u001b[0;34m)\u001b[0m\u001b[0;34m+\u001b[0m\u001b[0mnp\u001b[0m\u001b[0;34m.\u001b[0m\u001b[0mvar\u001b[0m\u001b[0;34m(\u001b[0m\u001b[0mpredictions\u001b[0m\u001b[0;34m)\u001b[0m\u001b[0;34m)\u001b[0m\u001b[0;34m\u001b[0m\u001b[0;34m\u001b[0m\u001b[0m\n\u001b[0m",
      "\u001b[0;31mNameError\u001b[0m: name 'maxValue' is not defined"
     ]
    }
   ],
   "source": [
    "threshold = ((maxValue + minValue)/2)-(2*np.mean(predictions)+np.var(predictions))"
   ]
  },
  {
   "cell_type": "code",
   "execution_count": null,
   "id": "52e4e117-df24-4554-9297-9d2a54ef7fdc",
   "metadata": {},
   "outputs": [],
   "source": [
    "threshold"
   ]
  },
  {
   "cell_type": "code",
   "execution_count": null,
   "id": "7837e393-0431-4335-a649-3690046a5924",
   "metadata": {},
   "outputs": [],
   "source": [
    "pred = np.where(predictions > 0.5,1,0)"
   ]
  },
  {
   "cell_type": "code",
   "execution_count": null,
   "id": "12a61189-16bb-46fc-8b56-7b322ffff1f5",
   "metadata": {},
   "outputs": [],
   "source": [
    "pred"
   ]
  },
  {
   "cell_type": "code",
   "execution_count": null,
   "id": "1b16f1df-f8b6-435f-94fe-f7498229bf23",
   "metadata": {},
   "outputs": [],
   "source": [
    "from sklearn.metrics import confusion_matrix"
   ]
  },
  {
   "cell_type": "code",
   "execution_count": null,
   "id": "2e758b48-abc6-4f62-bf3d-27e544b33082",
   "metadata": {},
   "outputs": [],
   "source": [
    "cf = confusion_matrix(y_test, pred)"
   ]
  },
  {
   "cell_type": "code",
   "execution_count": null,
   "id": "ea05cd6b-44f4-42e4-9855-a44358c0c89a",
   "metadata": {},
   "outputs": [],
   "source": [
    "cf"
   ]
  },
  {
   "cell_type": "markdown",
   "id": "fe8c57cc-5d42-40af-b967-4cfcfbba2646",
   "metadata": {},
   "source": [
    "array([[2051,  323],\n",
    "       [ 221,  405]])"
   ]
  },
  {
   "cell_type": "code",
   "execution_count": null,
   "id": "b11f88c8-4027-463f-bc0c-dd4bba1b3ac9",
   "metadata": {},
   "outputs": [],
   "source": [
    "var = np.var(predictions)"
   ]
  },
  {
   "cell_type": "code",
   "execution_count": null,
   "id": "d32ef225-0c54-4440-82a1-d8dbd9ca78f6",
   "metadata": {},
   "outputs": [],
   "source": [
    "var"
   ]
  },
  {
   "cell_type": "code",
   "execution_count": null,
   "id": "97ae2c79-90e3-465d-9db0-373dc3b72132",
   "metadata": {},
   "outputs": [],
   "source": [
    "maxValue = np.max(predictions)"
   ]
  },
  {
   "cell_type": "code",
   "execution_count": null,
   "id": "00b5df0b-30f6-4d08-8eea-b201815a757b",
   "metadata": {},
   "outputs": [],
   "source": [
    "minValue = np.min(predictions)"
   ]
  },
  {
   "cell_type": "code",
   "execution_count": null,
   "id": "b93482d0-6c2d-4f6e-985e-badca7819af0",
   "metadata": {},
   "outputs": [],
   "source": [
    "(maxValue + minValue)/2"
   ]
  },
  {
   "cell_type": "code",
   "execution_count": null,
   "id": "a5687d86-153a-47c9-aff7-b2e688b482af",
   "metadata": {},
   "outputs": [],
   "source": [
    "med = np.median(predictions)"
   ]
  },
  {
   "cell_type": "code",
   "execution_count": null,
   "id": "76f1c5bb-797a-48c5-ae48-6b230f5917cb",
   "metadata": {},
   "outputs": [],
   "source": [
    "med"
   ]
  },
  {
   "cell_type": "code",
   "execution_count": null,
   "id": "7994aead-9c80-4317-8366-e17fd8628a7e",
   "metadata": {},
   "outputs": [],
   "source": []
  }
 ],
 "metadata": {
  "kernelspec": {
   "display_name": "Python 3 (ipykernel)",
   "language": "python",
   "name": "python3"
  },
  "language_info": {
   "codemirror_mode": {
    "name": "ipython",
    "version": 3
   },
   "file_extension": ".py",
   "mimetype": "text/x-python",
   "name": "python",
   "nbconvert_exporter": "python",
   "pygments_lexer": "ipython3",
   "version": "3.9.7"
  },
  "widgets": {
   "application/vnd.jupyter.widget-state+json": {
    "state": {},
    "version_major": 2,
    "version_minor": 0
   }
  }
 },
 "nbformat": 4,
 "nbformat_minor": 5
}
